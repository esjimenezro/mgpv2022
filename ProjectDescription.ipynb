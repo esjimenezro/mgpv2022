{
 "cells": [
  {
   "cell_type": "markdown",
   "metadata": {},
   "source": [
    "# Proyecto final\n",
    "\n",
    "<img style=\"float: right; margin: 0px 0px 15px 15px;\" src=\"https://p0.pikrepo.com/preview/226/186/artificial-intelligence-concept.jpg\" width=\"350px\" height=\"180px\" />\n",
    "\n",
    "En el proyecto final abordarás algún problema usando un modelo gráfico probabilístico que propondrás. Puedes usar cualquier herramienta que hayamos visto a través del curso para este fin, y luego evaluarás el desempeño de tu modelo en términos de los indicadores del problema.\n",
    "___"
   ]
  },
  {
   "cell_type": "markdown",
   "metadata": {},
   "source": [
    "## 1. Título y descripción del problema\n",
    "\n",
    "Antes de nada, debes elegir un título representativo. Además debes describir claramente el problema que quieres resolver y cómo se generan los datos.\n",
    "\n",
    "No solo debes incluir texto. Un diagrama de la situación, fotos o cualquier material visual es de amplia ayuda."
   ]
  },
  {
   "cell_type": "markdown",
   "metadata": {},
   "source": [
    "## 2. Propuesta de solución\n",
    "\n",
    "Una vez describas el problema, debes proponer una solución basada en las herramientas vistas durante el curso que modele la situación de interés. Para esto puedes incluir cualquier fuente:\n",
    "\n",
    "- conocimiento de un experto,\n",
    "- tu propio conocimiento,\n",
    "- literatura,\n",
    "- entre otros.\n",
    "\n",
    "En cualquier caso, debes exponer de manera clara el proceso de modelamiento del problema."
   ]
  },
  {
   "cell_type": "markdown",
   "metadata": {},
   "source": [
    "## 3. Evaluación del modelo\n",
    "\n",
    "Es probable que el problema especifique una métrica de evaluación inherente al modelo que prepongas. Si este no es el caso, debes proponer una métrica para evaluar tu modelo y justificar por qué es una buena métrica para el problema específico que quieres resolver.\n",
    "\n",
    "De acuerdo a esta métrica, debes evaluar tu modelo y compararlo con otro modelo de benchmark."
   ]
  },
  {
   "cell_type": "markdown",
   "metadata": {},
   "source": [
    "## 4. Presentación\n",
    "\n",
    "Todos los puntos descritos anteriormente deben ser desarrollados en un notebook de jupyter (incluyendo pedazos de código con resultados importantes - si hay código extenso que no presente directamente resultados, recomiendo incluirlo en scripts .py aparte e importarlos). Toma en consideración que vas a presentar tu proyecto usando el notebook."
   ]
  },
  {
   "cell_type": "markdown",
   "metadata": {},
   "source": [
    "<script>\n",
    "  $(document).ready(function(){\n",
    "    $('div.prompt').hide();\n",
    "    $('div.back-to-top').hide();\n",
    "    $('nav#menubar').hide();\n",
    "    $('.breadcrumb').hide();\n",
    "    $('.hidden-print').hide();\n",
    "  });\n",
    "</script>\n",
    "\n",
    "<footer id=\"attribution\" style=\"float:right; color:#808080; background:#fff;\">\n",
    "Created with Jupyter by Esteban Jiménez Rodríguez.\n",
    "</footer>"
   ]
  }
 ],
 "metadata": {
  "kernelspec": {
   "display_name": "Python 3",
   "language": "python",
   "name": "python3"
  },
  "language_info": {
   "codemirror_mode": {
    "name": "ipython",
    "version": 3
   },
   "file_extension": ".py",
   "mimetype": "text/x-python",
   "name": "python",
   "nbconvert_exporter": "python",
   "pygments_lexer": "ipython3",
   "version": "3.7.6"
  }
 },
 "nbformat": 4,
 "nbformat_minor": 4
}
